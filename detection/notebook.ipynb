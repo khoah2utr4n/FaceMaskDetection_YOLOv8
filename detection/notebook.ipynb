{
 "cells": [
  {
   "cell_type": "code",
   "execution_count": 1,
   "metadata": {
    "execution": {
     "iopub.execute_input": "2024-07-12T13:33:03.498195Z",
     "iopub.status.busy": "2024-07-12T13:33:03.497930Z",
     "iopub.status.idle": "2024-07-12T13:33:04.558078Z",
     "shell.execute_reply": "2024-07-12T13:33:04.557130Z",
     "shell.execute_reply.started": "2024-07-12T13:33:03.498170Z"
    },
    "trusted": true
   },
   "outputs": [],
   "source": [
    "import os #\n",
    "import shutil # \n",
    "import cv2\n",
    "import xml.etree.ElementTree as ET #\n",
    "import matplotlib.pyplot as plt #\n",
    "from sklearn.model_selection import train_test_split "
   ]
  },
  {
   "cell_type": "markdown",
   "metadata": {},
   "source": [
    "# Data"
   ]
  },
  {
   "cell_type": "code",
   "execution_count": 2,
   "metadata": {
    "execution": {
     "iopub.execute_input": "2024-07-12T13:33:04.559942Z",
     "iopub.status.busy": "2024-07-12T13:33:04.559628Z",
     "iopub.status.idle": "2024-07-12T13:33:04.564888Z",
     "shell.execute_reply": "2024-07-12T13:33:04.563913Z",
     "shell.execute_reply.started": "2024-07-12T13:33:04.559910Z"
    },
    "trusted": true
   },
   "outputs": [],
   "source": [
    "DATASET_DIR = '../datasets'\n",
    "ANNOTATIONS_DIR = f'{DATASET_DIR}/annotations'\n",
    "IMAGES_DIR = f'{DATASET_DIR}/images'\n",
    "LABELS_DIR = f'{DATASET_DIR}/labels'\n",
    "\n",
    "CLASS_INDEXS = {'without_mask': 0, 'with_mask': 1, 'mask_weared_incorrect': 2}\n",
    "CLASS_NAMES = {0: 'without_mask', 1: 'with_mask', 2: 'mask_weared_incorrect'}"
   ]
  },
  {
   "cell_type": "code",
   "execution_count": 3,
   "metadata": {
    "execution": {
     "iopub.execute_input": "2024-07-12T13:33:04.566479Z",
     "iopub.status.busy": "2024-07-12T13:33:04.566147Z",
     "iopub.status.idle": "2024-07-12T13:33:04.576430Z",
     "shell.execute_reply": "2024-07-12T13:33:04.575575Z",
     "shell.execute_reply.started": "2024-07-12T13:33:04.566449Z"
    },
    "trusted": true
   },
   "outputs": [],
   "source": [
    "def xml2YoloBox(bndbox, width, height):\n",
    "    \"\"\"Convert xml bounding box to YOLO bounding box.\n",
    "    \n",
    "        Args:\n",
    "            bndbox (list | np.darray): A xml bounding box with format [xmin, ymin, xmax, ymax]\n",
    "            width (int): A width of entire image\n",
    "            height (int): A height of entire image\n",
    "        Returns:\n",
    "            yoloBox (list): The bounding box in YOLO format [xcenter, ycenter, boxWidth, boxHeight]\n",
    "    \"\"\"\n",
    "    xcenter = ((bndbox[0] + bndbox[2]) / 2.) / width\n",
    "    ycenter = ((bndbox[1] + bndbox[3]) / 2.) / height\n",
    "    boxWidth = (bndbox[2] - bndbox[0]) / width\n",
    "    boxHeight = (bndbox[3] - bndbox[1]) / height\n",
    "    yoloBox = [xcenter, ycenter, boxWidth, boxHeight]\n",
    "    return yoloBox\n",
    "\n",
    "def yolo2XmlBox(bndbox, width, height):\n",
    "    \"\"\"Convert YOLO bounding box to xml bounding box.\n",
    "    \n",
    "        Args:\n",
    "            bndbox (list | np.darray): A YOLO bounding box with format [xcenter, ycenter, boxWidth, boxHeight]\n",
    "            width (int): A width of entire image\n",
    "            height (int): A height of entire image\n",
    "        Returns:\n",
    "            xmlBox (list): The bounding box in xml format [xmin, ymin, xmax, ymax]\n",
    "    \"\"\"\n",
    "    xmin = (bndbox[0] - bndbox[2] / 2.) * width\n",
    "    ymin = (bndbox[1] - bndbox[3] / 2.) * height\n",
    "    xmax = (bndbox[0] + bndbox[2] / 2.) * width\n",
    "    ymax = (bndbox[1] + bndbox[3] / 2.) * height\n",
    "    xmlBox = [int(xmin), int(ymin), int(xmax), int(ymax)]\n",
    "    return xmlBox"
   ]
  },
  {
   "cell_type": "code",
   "execution_count": 4,
   "metadata": {
    "execution": {
     "iopub.execute_input": "2024-07-12T13:33:04.579575Z",
     "iopub.status.busy": "2024-07-12T13:33:04.579212Z",
     "iopub.status.idle": "2024-07-12T13:33:04.588099Z",
     "shell.execute_reply": "2024-07-12T13:33:04.587262Z",
     "shell.execute_reply.started": "2024-07-12T13:33:04.579546Z"
    },
    "trusted": true
   },
   "outputs": [],
   "source": [
    "def xml2YoloFormat(filepath):\n",
    "    \"\"\"Convert all objects in xml file to Ultralytics YOLO format.\n",
    "    \n",
    "        Args:\n",
    "            filepath (Path): Path to xml file \n",
    "        Returns:\n",
    "            allObjs (list): All objects in Ultralytics YOLO format\n",
    "    \"\"\"\n",
    "    tree = ET.parse(filepath)\n",
    "    root = tree.getroot()\n",
    "    imageWidth = int(root.find('size').find('width').text)    \n",
    "    imageHeight = int(root.find('size').find('height').text)\n",
    "    \n",
    "    allObjs = []\n",
    "    for obj in root.findall('object'):\n",
    "        className = obj.find('name').text\n",
    "        classIdx = CLASS_INDEXS[className]\n",
    "        xmlBox = [int(obj.find('bndbox')[i].text) for i in range(4)]\n",
    "        yoloBox = xml2YoloBox(xmlBox, imageWidth, imageHeight)\n",
    "        allObjs.append([classIdx] + yoloBox)\n",
    "    return allObjs"
   ]
  },
  {
   "cell_type": "markdown",
   "metadata": {},
   "source": [
    "# Preprocess the dataset \n",
    "Skip this one if you have already preprocessed the dataset (continue from  **Visuallization**)."
   ]
  },
  {
   "cell_type": "code",
   "execution_count": 5,
   "metadata": {},
   "outputs": [],
   "source": [
    "if os.path.exists(LABELS_DIR):\n",
    "    assert any([x not in os.listdir(LABELS_DIR) for x in ['train', 'val', 'test']]), \"The dataset was preprocessed\""
   ]
  },
  {
   "cell_type": "code",
   "execution_count": null,
   "metadata": {
    "execution": {
     "iopub.execute_input": "2024-07-12T13:33:04.608105Z",
     "iopub.status.busy": "2024-07-12T13:33:04.607760Z",
     "iopub.status.idle": "2024-07-12T13:33:07.523905Z",
     "shell.execute_reply": "2024-07-12T13:33:07.522940Z",
     "shell.execute_reply.started": "2024-07-12T13:33:04.608073Z"
    },
    "trusted": true
   },
   "outputs": [],
   "source": [
    "# Write to txt file\n",
    "os.makedirs(LABELS_DIR, exist_ok=True)\n",
    "for filename in os.listdir(ANNOTATIONS_DIR):\n",
    "    filepath = os.path.join(ANNOTATIONS_DIR, filename)\n",
    "    data = xml2YoloFormat(filepath)\n",
    "    f = open(f'{LABELS_DIR}/{filename[:-4]}.txt','w')            \n",
    "    f.write('\\n'.join(' '.join(map(str, obj)) for obj in data))\n",
    "    f.close()   "
   ]
  },
  {
   "cell_type": "code",
   "execution_count": 7,
   "metadata": {
    "execution": {
     "iopub.execute_input": "2024-07-12T13:33:07.525539Z",
     "iopub.status.busy": "2024-07-12T13:33:07.525225Z",
     "iopub.status.idle": "2024-07-12T13:33:07.532896Z",
     "shell.execute_reply": "2024-07-12T13:33:07.531514Z",
     "shell.execute_reply.started": "2024-07-12T13:33:07.525515Z"
    },
    "trusted": true
   },
   "outputs": [],
   "source": [
    "def moveFile(filenames, imgPath, imgDest, labelPath, labelDest):\n",
    "    os.makedirs(imgDest, exist_ok=True)    \n",
    "    os.makedirs(labelDest, exist_ok=True)\n",
    "\n",
    "    for filename in filenames:\n",
    "        imgSrc = os.path.join(imgPath, filename + '.png')\n",
    "        labelSrc = os.path.join(labelPath, filename + '.txt')\n",
    "        shutil.move(imgSrc, imgDest)\n",
    "        shutil.move(labelSrc, labelDest)"
   ]
  },
  {
   "cell_type": "code",
   "execution_count": 8,
   "metadata": {
    "execution": {
     "iopub.execute_input": "2024-07-12T13:33:07.534174Z",
     "iopub.status.busy": "2024-07-12T13:33:07.533918Z",
     "iopub.status.idle": "2024-07-12T13:33:15.994538Z",
     "shell.execute_reply": "2024-07-12T13:33:15.993782Z",
     "shell.execute_reply.started": "2024-07-12T13:33:07.534152Z"
    },
    "trusted": true
   },
   "outputs": [],
   "source": [
    "allFilenames = [f[:-4] for f in os.listdir(IMAGES_DIR)]\n",
    "\n",
    "#  Split train-val-test \n",
    "random_state = 1\n",
    "train, valTest = train_test_split(allFilenames, test_size=0.3, random_state=random_state, shuffle=True) \n",
    "val, test = train_test_split(list(valTest), test_size=0.5, random_state=random_state, shuffle=True)\n",
    "\n",
    "# Copy to corresponding folder\n",
    "moveFile(train, IMAGES_DIR, f'{IMAGES_DIR}/train/', LABELS_DIR, f'{LABELS_DIR}/train/')\n",
    "moveFile(val, IMAGES_DIR, f'{IMAGES_DIR}/val/', LABELS_DIR, f'{LABELS_DIR}/val/')\n",
    "moveFile(test, IMAGES_DIR, f'{IMAGES_DIR}/test/', LABELS_DIR, f'{LABELS_DIR}/test/')"
   ]
  },
  {
   "cell_type": "markdown",
   "metadata": {},
   "source": [
    "# Visualization"
   ]
  },
  {
   "cell_type": "code",
   "execution_count": 9,
   "metadata": {},
   "outputs": [],
   "source": [
    "def drawBoxes(image, bndboxes, withConfScore=False, isRgb=True):\n",
    "    \"\"\"Draw parsing bounding boxes on an parsing image.\n",
    "        Args:\n",
    "            image (Image): The original image.\n",
    "            bndboxes (list): List of predicted bounding boxes, format: [x, y, w, h, cls, conf].\n",
    "            name (str): Name to save the image.\n",
    "            withConfScore (bool, optional): Show confidence score or not. Defaults is False.\n",
    "            isRgb (bool, optional): The parsing image is rgb or bgr? (Just to keep the bounding box color consistent).\n",
    "        Returns:\n",
    "            (Image): The image with drawn bounding boxes.\n",
    "    \"\"\"\n",
    "    # Specific color for each class\n",
    "    if isRgb:\n",
    "        classColor = {0: (255,0,0), 1: (0,255,0), 2: (0,0,255)}\n",
    "    else: # bgr\n",
    "        classColor = {2: (255,0,0), 1: (0,255,0), 0: (0,0,255)}\n",
    "        \n",
    "    \n",
    "    # Load the image\n",
    "    newImg = image.copy()\n",
    "    h, w, _ = newImg.shape\n",
    "  \n",
    "    for obj in bndboxes:\n",
    "        xmin, ymin, xmax, ymax = yolo2XmlBox(obj[:4], w, h)\n",
    "        classIdx = obj[4]\n",
    "        className = CLASS_NAMES[classIdx]\n",
    "        color = classColor[classIdx]\n",
    "        text = f\"{className}({obj[5]})\" if withConfScore else f\"{className}\"\n",
    "        \n",
    "        newImg = cv2.rectangle(newImg, (xmin, ymin), (xmax, ymax), color=color, thickness=2)\n",
    "        newImg = cv2.putText(newImg, text, (xmin, ymin-5), fontFace=cv2.FONT_HERSHEY_SIMPLEX,\n",
    "                   fontScale=0.5, color=color, thickness=1, lineType=cv2.LINE_AA)\n",
    "    return newImg"
   ]
  },
  {
   "cell_type": "code",
   "execution_count": 10,
   "metadata": {
    "execution": {
     "iopub.execute_input": "2024-07-12T13:33:15.996299Z",
     "iopub.status.busy": "2024-07-12T13:33:15.996011Z",
     "iopub.status.idle": "2024-07-12T13:33:16.011764Z",
     "shell.execute_reply": "2024-07-12T13:33:16.010900Z",
     "shell.execute_reply.started": "2024-07-12T13:33:15.996276Z"
    },
    "trusted": true
   },
   "outputs": [],
   "source": [
    "def showImage(imagePath, predictedBoxes=None, labelPath=None):\n",
    "    \"\"\"Display an image with optinal predicted bounding boxes and true bounding boxes\n",
    "    \n",
    "        Args:\n",
    "            imagePath (Path): Path to image\n",
    "            predictedBoxes (list | np.darray, optinal): \n",
    "            labelPath (str, optinal): Path to true bounding boxes. Default is None\n",
    "    \"\"\"\n",
    "    # Create a figure for plotting\n",
    "    fig = plt.figure(figsize=(12, 8))\n",
    "    numRows = 1\n",
    "    numCols = 3 if (predictedBoxes is not None and labelPath is not None) else 2  \n",
    "    \n",
    "    # Load the image\n",
    "    image = cv2.imread(imagePath)\n",
    "    image = cv2.cvtColor(image, cv2.COLOR_BGR2RGB) \n",
    "    \n",
    "    # Display the original image\n",
    "    imgIdx = 1\n",
    "    ax1 = plt.subplot(numRows, numCols, imgIdx)\n",
    "    ax1.imshow(image)\n",
    "    ax1.set_title('Original image')\n",
    "    \n",
    "    # Display the predicted bounding boxes\n",
    "    if predictedBoxes is not None:\n",
    "        imgIdx += 1\n",
    "        ax2 = plt.subplot(numRows, numCols, imgIdx)\n",
    "        predictedImg = drawBoxes(image, predictedBoxes, withConfScore=True)\n",
    "        ax2.imshow(predictedImg)\n",
    "        ax2.set_title('Prediction')\n",
    "    \n",
    "    \n",
    "    # Display the true bouding boxes\n",
    "    if labelPath is not None:\n",
    "        imgIdx += 1\n",
    "        ax3 = plt.subplot(numRows, numCols, imgIdx)\n",
    "        \n",
    "        # Load true bounding boxes from label file\n",
    "        trueBoxes = []\n",
    "        with open(labelPath) as labelFile:\n",
    "            for line in labelFile.readlines():\n",
    "                bndbox = list(map(float, line.split()))\n",
    "                order = [1, 2, 3, 4, 0]\n",
    "                bndbox = [bndbox[order[i]] for i in range(5)]\n",
    "                trueBoxes.append(bndbox)\n",
    "        \n",
    "        groundtruthImg = drawBoxes(image, trueBoxes, withConfScore=False)\n",
    "        ax3.imshow(groundtruthImg)\n",
    "        ax3.set_title('Grouth truth')\n",
    "    fig.tight_layout()\n",
    "    plt.show()"
   ]
  },
  {
   "cell_type": "code",
   "execution_count": null,
   "metadata": {
    "execution": {
     "iopub.execute_input": "2024-07-12T13:33:16.015154Z",
     "iopub.status.busy": "2024-07-12T13:33:16.014836Z",
     "iopub.status.idle": "2024-07-12T13:33:16.856489Z",
     "shell.execute_reply": "2024-07-12T13:33:16.855593Z",
     "shell.execute_reply.started": "2024-07-12T13:33:16.015130Z"
    },
    "trusted": true
   },
   "outputs": [],
   "source": [
    "filename = 'maksssksksss129'\n",
    "imagePath = f'{IMAGES_DIR}/test/{filename}.png'\n",
    "labelPath = f'{LABELS_DIR}/test/{filename}.txt'\n",
    "showImage(imagePath, labelPath=labelPath)"
   ]
  },
  {
   "cell_type": "markdown",
   "metadata": {},
   "source": [
    "# Model"
   ]
  },
  {
   "cell_type": "code",
   "execution_count": 12,
   "metadata": {
    "execution": {
     "iopub.execute_input": "2024-07-12T13:33:31.160410Z",
     "iopub.status.busy": "2024-07-12T13:33:31.160096Z",
     "iopub.status.idle": "2024-07-12T13:33:33.398098Z",
     "shell.execute_reply": "2024-07-12T13:33:33.397104Z",
     "shell.execute_reply.started": "2024-07-12T13:33:31.160380Z"
    },
    "trusted": true
   },
   "outputs": [],
   "source": [
    "# !wandb disabled"
   ]
  },
  {
   "cell_type": "code",
   "execution_count": 13,
   "metadata": {
    "execution": {
     "iopub.execute_input": "2024-07-12T13:33:33.399806Z",
     "iopub.status.busy": "2024-07-12T13:33:33.399538Z",
     "iopub.status.idle": "2024-07-12T13:33:33.405203Z",
     "shell.execute_reply": "2024-07-12T13:33:33.404357Z",
     "shell.execute_reply.started": "2024-07-12T13:33:33.399780Z"
    },
    "trusted": true
   },
   "outputs": [],
   "source": [
    "root = os.getcwd()\n",
    "datasetPath = os.path.join(root, DATASET_DIR)\n",
    "\n",
    "# Create dataset.yaml\n",
    "yamlText = f\"\"\"path: {datasetPath}\n",
    "train: images/train \n",
    "val: images/val/ \n",
    "test: images/test/\n",
    "\n",
    "names:\n",
    "    0: without_mask\n",
    "    1: with_mask\n",
    "    2: mask_weared_incorrect\"\"\"\n",
    "\n",
    "with open(f\"data.yaml\", 'w') as file:\n",
    "    file.write(yamlText)"
   ]
  },
  {
   "cell_type": "code",
   "execution_count": 14,
   "metadata": {},
   "outputs": [],
   "source": [
    "from ultralytics import YOLO"
   ]
  },
  {
   "cell_type": "code",
   "execution_count": null,
   "metadata": {
    "execution": {
     "iopub.execute_input": "2024-07-12T13:33:33.406846Z",
     "iopub.status.busy": "2024-07-12T13:33:33.406471Z",
     "iopub.status.idle": "2024-07-12T13:43:11.278733Z",
     "shell.execute_reply": "2024-07-12T13:43:11.277800Z",
     "shell.execute_reply.started": "2024-07-12T13:33:33.406802Z"
    },
    "trusted": true
   },
   "outputs": [],
   "source": [
    "# Load a model\n",
    "model = YOLO(\"yolov8n.pt\")  # load a pretrained model (recommended for training)\n",
    "\n",
    "# Train the model \n",
    "trainResults = model.train(data=\"data.yaml\", epochs=5, imgsz=480)"
   ]
  },
  {
   "cell_type": "code",
   "execution_count": null,
   "metadata": {
    "execution": {
     "iopub.execute_input": "2024-07-12T13:55:47.371941Z",
     "iopub.status.busy": "2024-07-12T13:55:47.371509Z",
     "iopub.status.idle": "2024-07-12T13:55:47.952697Z",
     "shell.execute_reply": "2024-07-12T13:55:47.951784Z",
     "shell.execute_reply.started": "2024-07-12T13:55:47.371907Z"
    },
    "trusted": true
   },
   "outputs": [],
   "source": [
    "resultFig = cv2.imread(f'{str(trainResults.save_dir)}/results.png')\n",
    "resultFig = cv2.cvtColor(resultFig, cv2.COLOR_BGR2RGB)\n",
    "plt.figure(figsize=(15, 10))\n",
    "plt.axis('off')\n",
    "plt.imshow(resultFig)\n",
    "plt.show()"
   ]
  },
  {
   "cell_type": "code",
   "execution_count": null,
   "metadata": {
    "execution": {
     "iopub.execute_input": "2024-07-12T13:56:38.835770Z",
     "iopub.status.busy": "2024-07-12T13:56:38.835070Z",
     "iopub.status.idle": "2024-07-12T13:56:52.371885Z",
     "shell.execute_reply": "2024-07-12T13:56:52.370937Z",
     "shell.execute_reply.started": "2024-07-12T13:56:38.835736Z"
    },
    "trusted": true
   },
   "outputs": [],
   "source": [
    "# Load a model\n",
    "model = YOLO(f'{str(trainResults.save_dir)}/weights/best.pt')  # load a custom model\n",
    "\n",
    "# Validate the model\n",
    "metrics = model.val(data=\"data.yaml\")  # no arguments needed, dataset and settings remembered"
   ]
  },
  {
   "cell_type": "code",
   "execution_count": null,
   "metadata": {},
   "outputs": [],
   "source": [
    "metrics = model.val(data=\"data.yaml\", split='test')  # no arguments needed, dataset and settings remembered"
   ]
  },
  {
   "cell_type": "code",
   "execution_count": null,
   "metadata": {
    "execution": {
     "iopub.execute_input": "2024-07-12T14:22:57.652879Z",
     "iopub.status.busy": "2024-07-12T14:22:57.652047Z",
     "iopub.status.idle": "2024-07-12T14:22:58.040386Z",
     "shell.execute_reply": "2024-07-12T14:22:58.039530Z",
     "shell.execute_reply.started": "2024-07-12T14:22:57.652836Z"
    },
    "trusted": true
   },
   "outputs": [],
   "source": [
    "%matplotlib inline \n",
    "\n",
    "pred = model.predict(imagePath, save=True)\n",
    "\n",
    "# Display saved prediction\n",
    "predictedPath = f'{pred[0].save_dir}/{filename}.jpg'\n",
    "predictedImg = cv2.imread(predictedPath)\n",
    "predictedImg = cv2.cvtColor(predictedImg, cv2.COLOR_BGR2RGB)\n",
    "plt.imshow(predictedImg)"
   ]
  },
  {
   "cell_type": "code",
   "execution_count": 20,
   "metadata": {
    "execution": {
     "iopub.execute_input": "2024-07-12T14:23:04.621961Z",
     "iopub.status.busy": "2024-07-12T14:23:04.621228Z",
     "iopub.status.idle": "2024-07-12T14:23:04.629086Z",
     "shell.execute_reply": "2024-07-12T14:23:04.628102Z",
     "shell.execute_reply.started": "2024-07-12T14:23:04.621928Z"
    },
    "trusted": true
   },
   "outputs": [],
   "source": [
    "def getPrediction(model, imagePath):\n",
    "    \"\"\"Return a prediction of parsing model for parsing image\n",
    "        Args:\n",
    "            model (torch.nn.Module): Model used for prediction\n",
    "            imagePath (Path): Path to the image to be predicted \n",
    "        Return:\n",
    "            prediction (list): Prediction for parsing image\n",
    "    \"\"\"\n",
    "    results = model.predict(source=imagePath, conf=0.7, verbose=False)\n",
    "    prediction = []\n",
    "    for i in range(len(results[0].boxes.xywhn)):\n",
    "        classIdx = results[0].boxes.cls[i].cpu().item()\n",
    "        conf = round(results[0].boxes.conf[i].cpu().item(), 2)\n",
    "        pred = list(results[0].boxes.xywhn[i].cpu().numpy())\n",
    "        pred.append(classIdx)\n",
    "        pred.append(conf)\n",
    "        prediction.append(pred)\n",
    "    return prediction"
   ]
  },
  {
   "cell_type": "code",
   "execution_count": null,
   "metadata": {
    "execution": {
     "iopub.execute_input": "2024-07-12T14:23:04.801767Z",
     "iopub.status.busy": "2024-07-12T14:23:04.801506Z",
     "iopub.status.idle": "2024-07-12T14:23:05.537355Z",
     "shell.execute_reply": "2024-07-12T14:23:05.536448Z",
     "shell.execute_reply.started": "2024-07-12T14:23:04.801745Z"
    },
    "trusted": true
   },
   "outputs": [],
   "source": [
    "# Working with Results\n",
    "prediction = getPrediction(model, imagePath)\n",
    "showImage(imagePath, predictedBoxes=prediction, labelPath=labelPath)"
   ]
  },
  {
   "cell_type": "markdown",
   "metadata": {},
   "source": [
    "# REAL-TIME CAMERA"
   ]
  },
  {
   "cell_type": "code",
   "execution_count": null,
   "metadata": {},
   "outputs": [],
   "source": [
    "%matplotlib inline\n",
    "\n",
    "os.makedirs('camera', exist_ok=True) # Directory to store images\n",
    "print(\"Press 'q' to capture image\")\n",
    "print(\"Press 'w' to predict on real-time\")\n",
    "print(\"Press 'space' to close camera\")\n",
    "\n",
    "# Open the video capture object for your webcam (index 0)\n",
    "cap = cv2.VideoCapture(0)\n",
    "\n",
    "isRealtimeDetection = False\n",
    "while True:\n",
    "  # Capture frame-by-frame\n",
    "  ret, frame = cap.read()\n",
    "\n",
    "  # Check if frame is captured successfully\n",
    "  if not ret:\n",
    "      print(\"Error! Unable to capture frame\")\n",
    "      break\n",
    "\n",
    "  # Get keyboard input\n",
    "  key = cv2.waitKey(1)\n",
    "  \n",
    "  # Press 'w' to detect in real time\n",
    "  if key & 0xFF == ord('w'):\n",
    "      isRealtimeDetection = not isRealtimeDetection\n",
    "  \n",
    "  if isRealtimeDetection:\n",
    "      imgPath = 'camera/realtime.png'\n",
    "      cv2.imwrite(imgPath, frame)\n",
    "      prediction = getPrediction(model, imgPath)\n",
    "      predictedImg = drawBoxes(frame, bndboxes=prediction, withConfScore=True, isRgb=False)\n",
    "      frame = predictedImg\n",
    "    \n",
    "  # Press 'q' to capture image and exit\n",
    "  if key & 0xFF == ord('q'):\n",
    "      # Save the frame as an image\n",
    "      imgPath = 'camera/captured_image.png'\n",
    "      cv2.imwrite(imgPath, frame)\n",
    "      print(\"Image captured!\")\n",
    "      prediction = getPrediction(model, imgPath)\n",
    "      showImage(imgPath, predictedBoxes=prediction)\n",
    "      break\n",
    "\n",
    "  # Press 'space' to exit without capturing\n",
    "  if key & 0xFF == ord(' '):\n",
    "      break\n",
    "  \n",
    "  # Display the resulting frame\n",
    "  cv2.imshow('Camera', frame)\n",
    "\n",
    "# Release the capture and close all windows\n",
    "cap.release()\n",
    "cv2.destroyAllWindows()\n"
   ]
  }
 ],
 "metadata": {
  "kaggle": {
   "accelerator": "nvidiaTeslaT4",
   "dataSources": [
    {
     "datasetId": 667889,
     "sourceId": 1176415,
     "sourceType": "datasetVersion"
    }
   ],
   "dockerImageVersionId": 30732,
   "isGpuEnabled": true,
   "isInternetEnabled": true,
   "language": "python",
   "sourceType": "notebook"
  },
  "kernelspec": {
   "display_name": "fmd",
   "language": "python",
   "name": "python3"
  },
  "language_info": {
   "codemirror_mode": {
    "name": "ipython",
    "version": 3
   },
   "file_extension": ".py",
   "mimetype": "text/x-python",
   "name": "python",
   "nbconvert_exporter": "python",
   "pygments_lexer": "ipython3",
   "version": "3.13.2"
  }
 },
 "nbformat": 4,
 "nbformat_minor": 4
}
